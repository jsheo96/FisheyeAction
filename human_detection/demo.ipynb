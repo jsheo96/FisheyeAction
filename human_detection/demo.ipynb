{
 "cells": [
  {
   "cell_type": "code",
   "execution_count": 11,
   "metadata": {},
   "outputs": [],
   "source": [
    "from PIL import Image\n",
    "\n",
    "from api import Detector\n",
    "from fisheye_utills import FisheyeUtills as FU"
   ]
  },
  {
   "cell_type": "code",
   "execution_count": 12,
   "metadata": {},
   "outputs": [
    {
     "name": "stdout",
     "output_type": "stream",
     "text": [
      "Using backbone Darknet-53. Loading ImageNet weights....\n",
      "Warning: no ImageNet-pretrained weights found. Please check https://github.com/duanzhiihao/RAPiD for it.\n",
      "Number of parameters in backbone: 40584928\n",
      "Successfully initialized model rapid. Total number of trainable parameters: 61523734\n",
      "Successfully loaded weights: ./weights/pL1_MWHB1024_Mar11_4000.ckpt\n",
      "Using CPU instead of CUDA...\n"
     ]
    }
   ],
   "source": [
    "# weights can be downloaded from\n",
    "# put weights to folder named \"./weights/\"\n",
    "# https://github.com/duanzhiihao/RAPiD/releases/download/v0.1/pL1_MWHB608_Mar11_4500.ckpt\n",
    "rapid = Detector(model_name='rapid',\n",
    "                 weights_path='./weights/pL1_MWHB1024_Mar11_4000.ckpt',\n",
    "                 use_cuda=False)"
   ]
  },
  {
   "cell_type": "code",
   "execution_count": 13,
   "metadata": {},
   "outputs": [],
   "source": [
    "def process(img_path, model):\n",
    "    \n",
    "    # should open image first\n",
    "    img = Image.open(img_path)  \n",
    "    # feed image to model\n",
    "    detections = model.detect_one(pil_img=img,\n",
    "                                  visualize=False, \n",
    "                                  input_size=1024, \n",
    "                                  conf_thres=0.4, \n",
    "                                  test_aug=None)\n",
    "    # convert fisheye images\n",
    "    if detections.shape[0] > 0:\n",
    "        # make fisheye utills object\n",
    "        img_utills = FU(img)\n",
    "        # ignore confidence values at last element\n",
    "        uvwha = detections[:,:5]\n",
    "        # returns are described below\n",
    "        # patch.shape     : [N, C, H, W]\n",
    "        # sphericals.shape: [N, 2(lon, lat), H, W]\n",
    "        # k_values.shape  : [N]\n",
    "        patches, sphericals, k_values = img_utills.get_tangent_patch(uvwha,\n",
    "                                                              visualize=False,\n",
    "                                                              detectnet=True)\n",
    "    else:\n",
    "        patches = None\n",
    "    return patches, k_values\n",
    "\n",
    "patches = process(img_path='./images/lunch.jpg', model=rapid)"
   ]
  },
  {
   "cell_type": "code",
   "execution_count": null,
   "metadata": {},
   "outputs": [],
   "source": []
  }
 ],
 "metadata": {
  "kernelspec": {
   "display_name": "Python 3 (ipykernel)",
   "language": "python",
   "name": "python3"
  },
  "language_info": {
   "codemirror_mode": {
    "name": "ipython",
    "version": 3
   },
   "file_extension": ".py",
   "mimetype": "text/x-python",
   "name": "python",
   "nbconvert_exporter": "python",
   "pygments_lexer": "ipython3",
   "version": "3.8.12"
  }
 },
 "nbformat": 4,
 "nbformat_minor": 4
}
